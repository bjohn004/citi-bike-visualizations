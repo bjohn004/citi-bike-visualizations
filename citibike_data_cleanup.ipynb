{
 "cells": [
  {
   "cell_type": "code",
   "execution_count": 1,
   "id": "c6bd7ac5",
   "metadata": {},
   "outputs": [],
   "source": [
    "import pandas as pd"
   ]
  },
  {
   "cell_type": "code",
   "execution_count": 2,
   "id": "937d5317",
   "metadata": {},
   "outputs": [],
   "source": [
    "csv01 = \"Resources/202101-citibike-tripdata.csv\"\n",
    "csv02 = \"Resources/202102-citibike-tripdata.csv\"\n",
    "csv03 = \"Resources/202103-citibike-tripdata.csv\"\n",
    "csv04 = \"Resources/202104-citibike-tripdata.csv\"\n",
    "csv05 = \"Resources/202105-citibike-tripdata.csv\"\n",
    "csv06 = \"Resources/202106-citibike-tripdata.csv\"\n",
    "csv07 = \"Resources/202107-citibike-tripdata.csv\"\n",
    "csv08 = \"Resources/202108-citibike-tripdata.csv\"\n",
    "csv09 = \"Resources/202109-citibike-tripdata.csv\"\n",
    "csv10 = \"Resources/202110-citibike-tripdata.csv\"\n",
    "csv11 = \"Resources/202111-citibike-tripdata.csv\"\n",
    "csv12 = \"Resources/202112-citibike-tripdata.csv\""
   ]
  },
  {
   "cell_type": "code",
   "execution_count": 3,
   "id": "5ec5d2c3",
   "metadata": {},
   "outputs": [
    {
     "name": "stderr",
     "output_type": "stream",
     "text": [
      "/var/folders/sp/6plkjdmn5qsb1910x_z26fnm0000gn/T/ipykernel_31594/971501354.py:2: DtypeWarning: Columns (5,7) have mixed types. Specify dtype option on import or set low_memory=False.\n",
      "  df_02 = pd.read_csv(csv02, dtype={\"start_station_name\": 'str', \"end_station_name\": 'str'})\n",
      "/var/folders/sp/6plkjdmn5qsb1910x_z26fnm0000gn/T/ipykernel_31594/971501354.py:3: DtypeWarning: Columns (5,7) have mixed types. Specify dtype option on import or set low_memory=False.\n",
      "  df_03 = pd.read_csv(csv03, dtype={\"start_station_name\": 'str', \"end_station_name\": 'str'})\n",
      "/var/folders/sp/6plkjdmn5qsb1910x_z26fnm0000gn/T/ipykernel_31594/971501354.py:4: DtypeWarning: Columns (5,7) have mixed types. Specify dtype option on import or set low_memory=False.\n",
      "  df_04 = pd.read_csv(csv04, dtype={\"start_station_name\": 'str', \"end_station_name\": 'str'})\n",
      "/var/folders/sp/6plkjdmn5qsb1910x_z26fnm0000gn/T/ipykernel_31594/971501354.py:5: DtypeWarning: Columns (5,7) have mixed types. Specify dtype option on import or set low_memory=False.\n",
      "  df_05 = pd.read_csv(csv05, dtype={\"start_station_name\": 'str', \"end_station_name\": 'str'})\n",
      "/var/folders/sp/6plkjdmn5qsb1910x_z26fnm0000gn/T/ipykernel_31594/971501354.py:6: DtypeWarning: Columns (7) have mixed types. Specify dtype option on import or set low_memory=False.\n",
      "  df_06 = pd.read_csv(csv06, dtype={\"start_station_name\": 'str', \"end_station_name\": 'str'})\n",
      "/var/folders/sp/6plkjdmn5qsb1910x_z26fnm0000gn/T/ipykernel_31594/971501354.py:7: DtypeWarning: Columns (7) have mixed types. Specify dtype option on import or set low_memory=False.\n",
      "  df_07 = pd.read_csv(csv07, dtype={\"start_station_name\": 'str', \"end_station_name\": 'str'})\n",
      "/var/folders/sp/6plkjdmn5qsb1910x_z26fnm0000gn/T/ipykernel_31594/971501354.py:8: DtypeWarning: Columns (7) have mixed types. Specify dtype option on import or set low_memory=False.\n",
      "  df_08 = pd.read_csv(csv08, dtype={\"start_station_name\": 'str', \"end_station_name\": 'str'})\n",
      "/var/folders/sp/6plkjdmn5qsb1910x_z26fnm0000gn/T/ipykernel_31594/971501354.py:9: DtypeWarning: Columns (7) have mixed types. Specify dtype option on import or set low_memory=False.\n",
      "  df_09 = pd.read_csv(csv09, dtype={\"start_station_name\": 'str', \"end_station_name\": 'str'})\n",
      "/var/folders/sp/6plkjdmn5qsb1910x_z26fnm0000gn/T/ipykernel_31594/971501354.py:10: DtypeWarning: Columns (5,7) have mixed types. Specify dtype option on import or set low_memory=False.\n",
      "  df_10 = pd.read_csv(csv10, dtype={\"start_station_name\": 'str', \"end_station_name\": 'str'})\n",
      "/var/folders/sp/6plkjdmn5qsb1910x_z26fnm0000gn/T/ipykernel_31594/971501354.py:11: DtypeWarning: Columns (5,7) have mixed types. Specify dtype option on import or set low_memory=False.\n",
      "  df_11 = pd.read_csv(csv11, dtype={\"start_station_name\": 'str', \"end_station_name\": 'str'})\n",
      "/var/folders/sp/6plkjdmn5qsb1910x_z26fnm0000gn/T/ipykernel_31594/971501354.py:12: DtypeWarning: Columns (5,7) have mixed types. Specify dtype option on import or set low_memory=False.\n",
      "  df_12 = pd.read_csv(csv12, dtype={\"start_station_name\": 'str', \"end_station_name\": 'str'})\n"
     ]
    }
   ],
   "source": [
    "df_01 = pd.read_csv(csv01, dtype={\"start_station_name\": 'str', \"end_station_name\": 'str'})\n",
    "df_02 = pd.read_csv(csv02, dtype={\"start_station_name\": 'str', \"end_station_name\": 'str'})\n",
    "df_03 = pd.read_csv(csv03, dtype={\"start_station_name\": 'str', \"end_station_name\": 'str'})\n",
    "df_04 = pd.read_csv(csv04, dtype={\"start_station_name\": 'str', \"end_station_name\": 'str'})\n",
    "df_05 = pd.read_csv(csv05, dtype={\"start_station_name\": 'str', \"end_station_name\": 'str'})\n",
    "df_06 = pd.read_csv(csv06, dtype={\"start_station_name\": 'str', \"end_station_name\": 'str'})\n",
    "df_07 = pd.read_csv(csv07, dtype={\"start_station_name\": 'str', \"end_station_name\": 'str'})\n",
    "df_08 = pd.read_csv(csv08, dtype={\"start_station_name\": 'str', \"end_station_name\": 'str'})\n",
    "df_09 = pd.read_csv(csv09, dtype={\"start_station_name\": 'str', \"end_station_name\": 'str'})\n",
    "df_10 = pd.read_csv(csv10, dtype={\"start_station_name\": 'str', \"end_station_name\": 'str'})\n",
    "df_11 = pd.read_csv(csv11, dtype={\"start_station_name\": 'str', \"end_station_name\": 'str'})\n",
    "df_12 = pd.read_csv(csv12, dtype={\"start_station_name\": 'str', \"end_station_name\": 'str'})"
   ]
  },
  {
   "cell_type": "code",
   "execution_count": 4,
   "id": "4da8b723",
   "metadata": {},
   "outputs": [],
   "source": [
    "df_01[\"usertype\"] = df_01[\"usertype\"].replace(\"Subscriber\",\"member\")\n",
    "df_01[\"usertype\"] = df_01[\"usertype\"].replace(\"Customer\",\"casual\")\n",
    "df_01 = df_01.drop(\"gender\", axis=1)\n",
    "df_01 = df_01.drop(\"birth year\", axis=1)\n",
    "df_01 = df_01.rename(columns={\"bikeid\": \"ride_id\", \"starttime\":\"started_at\",\"stoptime\": \"ended_at\", \"start station id\": \"start_station_id\", \"start station name\": \"start_station_name\", \"start station latitude\":\"start_lat\", \"start station longitude\": \"start_lng\", \"end station id\": \"end_station_id\", \"end station name\": \"end_station_name\", \"end station latitude\":\"end_lat\", \"end station longitude\": \"end_lng\", \"usertype\":\"member_casual\"})"
   ]
  },
  {
   "cell_type": "code",
   "execution_count": 5,
   "id": "ff46466a",
   "metadata": {},
   "outputs": [],
   "source": [
    "df_2021= pd.concat([df_01, df_02, df_03, df_04, df_05, df_06, df_07, df_08, df_09, df_10, df_11, df_12], ignore_index=True)"
   ]
  },
  {
   "cell_type": "code",
   "execution_count": 8,
   "id": "beeedc6c",
   "metadata": {},
   "outputs": [
    {
     "data": {
      "text/plain": [
       "W 21 St & 6 Ave                128792\n",
       "E 17 St & Broadway             123779\n",
       "1 Ave & E 68 St                113212\n",
       "West St & Chambers St          109861\n",
       "Broadway & W 25 St             102209\n",
       "                                ...  \n",
       "Pier 40 Dock Station                2\n",
       "Grand Concourse & E 161  St         2\n",
       "MTL-ECO51-1                         2\n",
       "Pier 40 X2                          1\n",
       "Morgan Bike Mechanics               1\n",
       "Name: start_station_name, Length: 1570, dtype: int64"
      ]
     },
     "execution_count": 8,
     "metadata": {},
     "output_type": "execute_result"
    }
   ],
   "source": [
    "df_2021[\"start_station_name\"].value_counts()"
   ]
  },
  {
   "cell_type": "code",
   "execution_count": null,
   "id": "88198944",
   "metadata": {},
   "outputs": [],
   "source": [
    "df=df_2021.groupby('start_station_name').nunique()\n",
    "df"
   ]
  },
  {
   "cell_type": "code",
   "execution_count": null,
   "id": "573d7b4f",
   "metadata": {},
   "outputs": [],
   "source": [
    "df_2021_name = df_2021.groupby(\"start_station_name\").unique()"
   ]
  },
  {
   "cell_type": "code",
   "execution_count": null,
   "id": "8e4004e2",
   "metadata": {},
   "outputs": [],
   "source": [
    "df_2021_name"
   ]
  },
  {
   "cell_type": "code",
   "execution_count": null,
   "id": "e3e0ec56",
   "metadata": {},
   "outputs": [],
   "source": [
    "df_2021[\"City\"] = \"New York City\"\n",
    "df_2021"
   ]
  },
  {
   "cell_type": "code",
   "execution_count": null,
   "id": "2d9469ad",
   "metadata": {},
   "outputs": [],
   "source": [
    "df_01.shape"
   ]
  },
  {
   "cell_type": "code",
   "execution_count": null,
   "id": "51baf16f",
   "metadata": {},
   "outputs": [],
   "source": [
    "df_2021[\"start_station_name\"].value_counts()"
   ]
  },
  {
   "cell_type": "code",
   "execution_count": null,
   "id": "5d87edac",
   "metadata": {},
   "outputs": [],
   "source": [
    "df_2021[\"end_station_name\"].value_counts()"
   ]
  },
  {
   "cell_type": "code",
   "execution_count": 10,
   "id": "50cca9b9",
   "metadata": {},
   "outputs": [
    {
     "data": {
      "text/html": [
       "<div>\n",
       "<style scoped>\n",
       "    .dataframe tbody tr th:only-of-type {\n",
       "        vertical-align: middle;\n",
       "    }\n",
       "\n",
       "    .dataframe tbody tr th {\n",
       "        vertical-align: top;\n",
       "    }\n",
       "\n",
       "    .dataframe thead th {\n",
       "        text-align: right;\n",
       "    }\n",
       "</style>\n",
       "<table border=\"1\" class=\"dataframe\">\n",
       "  <thead>\n",
       "    <tr style=\"text-align: right;\">\n",
       "      <th></th>\n",
       "      <th>tripduration</th>\n",
       "      <th>started_at</th>\n",
       "      <th>ended_at</th>\n",
       "      <th>start_station_id</th>\n",
       "      <th>start_station_name</th>\n",
       "      <th>start_lat</th>\n",
       "      <th>start_lng</th>\n",
       "      <th>end_station_id</th>\n",
       "      <th>end_station_name</th>\n",
       "      <th>end_lat</th>\n",
       "      <th>end_lng</th>\n",
       "      <th>ride_id</th>\n",
       "      <th>member_casual</th>\n",
       "      <th>rideable_type</th>\n",
       "    </tr>\n",
       "  </thead>\n",
       "  <tbody>\n",
       "    <tr>\n",
       "      <th>42</th>\n",
       "      <td>670.0</td>\n",
       "      <td>2021-01-01 00:08:46.0140</td>\n",
       "      <td>2021-01-01 00:19:56.7670</td>\n",
       "      <td>497</td>\n",
       "      <td>E 17 St &amp; Broadway</td>\n",
       "      <td>40.737050</td>\n",
       "      <td>-73.990093</td>\n",
       "      <td>4219</td>\n",
       "      <td>W 35 St &amp; 9 Ave</td>\n",
       "      <td>40.754145</td>\n",
       "      <td>-73.996089</td>\n",
       "      <td>49603</td>\n",
       "      <td>member</td>\n",
       "      <td>NaN</td>\n",
       "    </tr>\n",
       "    <tr>\n",
       "      <th>62</th>\n",
       "      <td>753.0</td>\n",
       "      <td>2021-01-01 00:11:45.1670</td>\n",
       "      <td>2021-01-01 00:24:18.8650</td>\n",
       "      <td>151</td>\n",
       "      <td>Cleveland Pl &amp; Spring St</td>\n",
       "      <td>40.722104</td>\n",
       "      <td>-73.997249</td>\n",
       "      <td>326</td>\n",
       "      <td>E 11 St &amp; 1 Ave</td>\n",
       "      <td>40.729538</td>\n",
       "      <td>-73.984267</td>\n",
       "      <td>43622</td>\n",
       "      <td>member</td>\n",
       "      <td>NaN</td>\n",
       "    </tr>\n",
       "    <tr>\n",
       "      <th>77</th>\n",
       "      <td>363.0</td>\n",
       "      <td>2021-01-01 00:12:57.9890</td>\n",
       "      <td>2021-01-01 00:19:01.3200</td>\n",
       "      <td>3641</td>\n",
       "      <td>Broadway &amp; W 25 St</td>\n",
       "      <td>40.742869</td>\n",
       "      <td>-73.989186</td>\n",
       "      <td>252</td>\n",
       "      <td>MacDougal St &amp; Washington Sq</td>\n",
       "      <td>40.732264</td>\n",
       "      <td>-73.998522</td>\n",
       "      <td>49429</td>\n",
       "      <td>member</td>\n",
       "      <td>NaN</td>\n",
       "    </tr>\n",
       "    <tr>\n",
       "      <th>79</th>\n",
       "      <td>355.0</td>\n",
       "      <td>2021-01-01 00:13:02.3480</td>\n",
       "      <td>2021-01-01 00:18:57.7120</td>\n",
       "      <td>3641</td>\n",
       "      <td>Broadway &amp; W 25 St</td>\n",
       "      <td>40.742869</td>\n",
       "      <td>-73.989186</td>\n",
       "      <td>252</td>\n",
       "      <td>MacDougal St &amp; Washington Sq</td>\n",
       "      <td>40.732264</td>\n",
       "      <td>-73.998522</td>\n",
       "      <td>36165</td>\n",
       "      <td>casual</td>\n",
       "      <td>NaN</td>\n",
       "    </tr>\n",
       "    <tr>\n",
       "      <th>82</th>\n",
       "      <td>371.0</td>\n",
       "      <td>2021-01-01 00:13:23.1320</td>\n",
       "      <td>2021-01-01 00:19:34.5690</td>\n",
       "      <td>3641</td>\n",
       "      <td>Broadway &amp; W 25 St</td>\n",
       "      <td>40.742869</td>\n",
       "      <td>-73.989186</td>\n",
       "      <td>252</td>\n",
       "      <td>MacDougal St &amp; Washington Sq</td>\n",
       "      <td>40.732264</td>\n",
       "      <td>-73.998522</td>\n",
       "      <td>49759</td>\n",
       "      <td>member</td>\n",
       "      <td>NaN</td>\n",
       "    </tr>\n",
       "    <tr>\n",
       "      <th>...</th>\n",
       "      <td>...</td>\n",
       "      <td>...</td>\n",
       "      <td>...</td>\n",
       "      <td>...</td>\n",
       "      <td>...</td>\n",
       "      <td>...</td>\n",
       "      <td>...</td>\n",
       "      <td>...</td>\n",
       "      <td>...</td>\n",
       "      <td>...</td>\n",
       "      <td>...</td>\n",
       "      <td>...</td>\n",
       "      <td>...</td>\n",
       "      <td>...</td>\n",
       "    </tr>\n",
       "    <tr>\n",
       "      <th>27660848</th>\n",
       "      <td>NaN</td>\n",
       "      <td>2021-12-03 20:15:03</td>\n",
       "      <td>2021-12-03 20:17:59</td>\n",
       "      <td>5779.09</td>\n",
       "      <td>E 13 St &amp; Avenue A</td>\n",
       "      <td>40.729667</td>\n",
       "      <td>-73.980680</td>\n",
       "      <td>5616.01</td>\n",
       "      <td>E 9 St &amp; Avenue C</td>\n",
       "      <td>40.725213</td>\n",
       "      <td>-73.977688</td>\n",
       "      <td>9FA3C2050AD1DF76</td>\n",
       "      <td>member</td>\n",
       "      <td>classic_bike</td>\n",
       "    </tr>\n",
       "    <tr>\n",
       "      <th>27660849</th>\n",
       "      <td>NaN</td>\n",
       "      <td>2021-12-31 19:20:50</td>\n",
       "      <td>2021-12-31 19:23:09</td>\n",
       "      <td>5779.09</td>\n",
       "      <td>E 13 St &amp; Avenue A</td>\n",
       "      <td>40.729667</td>\n",
       "      <td>-73.980680</td>\n",
       "      <td>5616.01</td>\n",
       "      <td>E 9 St &amp; Avenue C</td>\n",
       "      <td>40.725213</td>\n",
       "      <td>-73.977688</td>\n",
       "      <td>A69528477EFADD65</td>\n",
       "      <td>member</td>\n",
       "      <td>electric_bike</td>\n",
       "    </tr>\n",
       "    <tr>\n",
       "      <th>27660850</th>\n",
       "      <td>NaN</td>\n",
       "      <td>2021-12-13 16:51:22</td>\n",
       "      <td>2021-12-13 16:58:35</td>\n",
       "      <td>5779.09</td>\n",
       "      <td>E 13 St &amp; Avenue A</td>\n",
       "      <td>40.729667</td>\n",
       "      <td>-73.980680</td>\n",
       "      <td>5947.04</td>\n",
       "      <td>W 13 St &amp; 5 Ave</td>\n",
       "      <td>40.735445</td>\n",
       "      <td>-73.994310</td>\n",
       "      <td>7651835B0C0CC117</td>\n",
       "      <td>casual</td>\n",
       "      <td>classic_bike</td>\n",
       "    </tr>\n",
       "    <tr>\n",
       "      <th>27660852</th>\n",
       "      <td>NaN</td>\n",
       "      <td>2021-12-03 23:09:12</td>\n",
       "      <td>2021-12-03 23:42:34</td>\n",
       "      <td>5779.09</td>\n",
       "      <td>E 13 St &amp; Avenue A</td>\n",
       "      <td>40.729667</td>\n",
       "      <td>-73.980680</td>\n",
       "      <td>4413.08</td>\n",
       "      <td>Warren St &amp; Court St</td>\n",
       "      <td>40.686371</td>\n",
       "      <td>-73.993833</td>\n",
       "      <td>217029FAADD8F119</td>\n",
       "      <td>member</td>\n",
       "      <td>classic_bike</td>\n",
       "    </tr>\n",
       "    <tr>\n",
       "      <th>27660853</th>\n",
       "      <td>NaN</td>\n",
       "      <td>2021-12-02 11:00:17</td>\n",
       "      <td>2021-12-02 11:36:23</td>\n",
       "      <td>5779.09</td>\n",
       "      <td>E 13 St &amp; Avenue A</td>\n",
       "      <td>40.729667</td>\n",
       "      <td>-73.980680</td>\n",
       "      <td>7623.13</td>\n",
       "      <td>Riverside Dr &amp; W 104 St</td>\n",
       "      <td>40.801343</td>\n",
       "      <td>-73.971146</td>\n",
       "      <td>C411FB5D2929084C</td>\n",
       "      <td>member</td>\n",
       "      <td>electric_bike</td>\n",
       "    </tr>\n",
       "  </tbody>\n",
       "</table>\n",
       "<p>1067651 rows × 14 columns</p>\n",
       "</div>"
      ],
      "text/plain": [
       "          tripduration                started_at                  ended_at  \\\n",
       "42               670.0  2021-01-01 00:08:46.0140  2021-01-01 00:19:56.7670   \n",
       "62               753.0  2021-01-01 00:11:45.1670  2021-01-01 00:24:18.8650   \n",
       "77               363.0  2021-01-01 00:12:57.9890  2021-01-01 00:19:01.3200   \n",
       "79               355.0  2021-01-01 00:13:02.3480  2021-01-01 00:18:57.7120   \n",
       "82               371.0  2021-01-01 00:13:23.1320  2021-01-01 00:19:34.5690   \n",
       "...                ...                       ...                       ...   \n",
       "27660848           NaN       2021-12-03 20:15:03       2021-12-03 20:17:59   \n",
       "27660849           NaN       2021-12-31 19:20:50       2021-12-31 19:23:09   \n",
       "27660850           NaN       2021-12-13 16:51:22       2021-12-13 16:58:35   \n",
       "27660852           NaN       2021-12-03 23:09:12       2021-12-03 23:42:34   \n",
       "27660853           NaN       2021-12-02 11:00:17       2021-12-02 11:36:23   \n",
       "\n",
       "         start_station_id        start_station_name  start_lat  start_lng  \\\n",
       "42                    497        E 17 St & Broadway  40.737050 -73.990093   \n",
       "62                    151  Cleveland Pl & Spring St  40.722104 -73.997249   \n",
       "77                   3641        Broadway & W 25 St  40.742869 -73.989186   \n",
       "79                   3641        Broadway & W 25 St  40.742869 -73.989186   \n",
       "82                   3641        Broadway & W 25 St  40.742869 -73.989186   \n",
       "...                   ...                       ...        ...        ...   \n",
       "27660848          5779.09        E 13 St & Avenue A  40.729667 -73.980680   \n",
       "27660849          5779.09        E 13 St & Avenue A  40.729667 -73.980680   \n",
       "27660850          5779.09        E 13 St & Avenue A  40.729667 -73.980680   \n",
       "27660852          5779.09        E 13 St & Avenue A  40.729667 -73.980680   \n",
       "27660853          5779.09        E 13 St & Avenue A  40.729667 -73.980680   \n",
       "\n",
       "         end_station_id              end_station_name    end_lat    end_lng  \\\n",
       "42                 4219               W 35 St & 9 Ave  40.754145 -73.996089   \n",
       "62                  326               E 11 St & 1 Ave  40.729538 -73.984267   \n",
       "77                  252  MacDougal St & Washington Sq  40.732264 -73.998522   \n",
       "79                  252  MacDougal St & Washington Sq  40.732264 -73.998522   \n",
       "82                  252  MacDougal St & Washington Sq  40.732264 -73.998522   \n",
       "...                 ...                           ...        ...        ...   \n",
       "27660848        5616.01             E 9 St & Avenue C  40.725213 -73.977688   \n",
       "27660849        5616.01             E 9 St & Avenue C  40.725213 -73.977688   \n",
       "27660850        5947.04               W 13 St & 5 Ave  40.735445 -73.994310   \n",
       "27660852        4413.08          Warren St & Court St  40.686371 -73.993833   \n",
       "27660853        7623.13       Riverside Dr & W 104 St  40.801343 -73.971146   \n",
       "\n",
       "                   ride_id member_casual  rideable_type  \n",
       "42                   49603        member            NaN  \n",
       "62                   43622        member            NaN  \n",
       "77                   49429        member            NaN  \n",
       "79                   36165        casual            NaN  \n",
       "82                   49759        member            NaN  \n",
       "...                    ...           ...            ...  \n",
       "27660848  9FA3C2050AD1DF76        member   classic_bike  \n",
       "27660849  A69528477EFADD65        member  electric_bike  \n",
       "27660850  7651835B0C0CC117        casual   classic_bike  \n",
       "27660852  217029FAADD8F119        member   classic_bike  \n",
       "27660853  C411FB5D2929084C        member  electric_bike  \n",
       "\n",
       "[1067651 rows x 14 columns]"
      ]
     },
     "execution_count": 10,
     "metadata": {},
     "output_type": "execute_result"
    }
   ],
   "source": [
    "df1=df_2021.groupby(\"start_station_name\").filter(lambda x: len(x) > 95000)\n",
    "df1"
   ]
  },
  {
   "cell_type": "code",
   "execution_count": 11,
   "id": "be232beb",
   "metadata": {},
   "outputs": [
    {
     "data": {
      "text/plain": [
       "W 21 St & 6 Ave             128792\n",
       "E 17 St & Broadway          123779\n",
       "1 Ave & E 68 St             113212\n",
       "West St & Chambers St       109861\n",
       "Broadway & W 25 St          102209\n",
       "Cleveland Pl & Spring St    101085\n",
       "Broadway & E 14 St           99698\n",
       "6 Ave & W 33 St              96909\n",
       "E 13 St & Avenue A           96590\n",
       "West St & Liberty St         95516\n",
       "Name: start_station_name, dtype: int64"
      ]
     },
     "execution_count": 11,
     "metadata": {},
     "output_type": "execute_result"
    }
   ],
   "source": [
    "df1[\"start_station_name\"].value_counts()"
   ]
  },
  {
   "cell_type": "code",
   "execution_count": null,
   "id": "f4b2a603",
   "metadata": {},
   "outputs": [],
   "source": [
    "df2=df_2021.groupby(\"end_station_name\").filter(lambda x: len(x) > 100000)\n",
    "df2"
   ]
  },
  {
   "cell_type": "code",
   "execution_count": 12,
   "id": "57c7f8a3",
   "metadata": {},
   "outputs": [],
   "source": [
    "df1.to_csv ('Resources/citibike_2021.csv', index = False, header=True)\n"
   ]
  },
  {
   "cell_type": "code",
   "execution_count": null,
   "id": "4f9a6457",
   "metadata": {},
   "outputs": [],
   "source": [
    "df2.to_csv ('Resources/citibike_2021_end.csv', index = False, header=True)"
   ]
  },
  {
   "cell_type": "code",
   "execution_count": null,
   "id": "08cb59a9",
   "metadata": {},
   "outputs": [],
   "source": [
    "df2[\"end_station_name\"].value_counts()"
   ]
  },
  {
   "cell_type": "code",
   "execution_count": null,
   "id": "612ec8c5",
   "metadata": {},
   "outputs": [],
   "source": []
  },
  {
   "cell_type": "code",
   "execution_count": null,
   "id": "4d8c0354",
   "metadata": {},
   "outputs": [],
   "source": [
    "df0"
   ]
  },
  {
   "cell_type": "code",
   "execution_count": null,
   "id": "84595419",
   "metadata": {},
   "outputs": [],
   "source": [
    "df_01"
   ]
  },
  {
   "cell_type": "code",
   "execution_count": null,
   "id": "42e098ac",
   "metadata": {},
   "outputs": [],
   "source": []
  }
 ],
 "metadata": {
  "kernelspec": {
   "display_name": "Python 3 (ipykernel)",
   "language": "python",
   "name": "python3"
  },
  "language_info": {
   "codemirror_mode": {
    "name": "ipython",
    "version": 3
   },
   "file_extension": ".py",
   "mimetype": "text/x-python",
   "name": "python",
   "nbconvert_exporter": "python",
   "pygments_lexer": "ipython3",
   "version": "3.8.13"
  }
 },
 "nbformat": 4,
 "nbformat_minor": 5
}
